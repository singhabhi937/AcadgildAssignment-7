{
 "cells": [
  {
   "cell_type": "code",
   "execution_count": 31,
   "metadata": {},
   "outputs": [],
   "source": [
    "# Given a sequence of n values x1, x2, ..., xn and a window size k>0, the k-th moving\n",
    "# average of the given sequence is defined as follows:\n",
    "# The moving average sequence has n-k+1 elements as shown below.\n",
    "# The moving averages with k=4 of a ten-value sequence (n=10) is shown below\n",
    "# i 1 2 3 4 5 6 7 8 9 10\n",
    "# ===== == == == == == == == == == ==\n",
    "# Input 10 20 30 40 50 60 70 80 90 100\n",
    "# y1 25 = (10+20+30+40)/4\n",
    "# y2 35 = (20+30+40+50)/4\n",
    "# y3 45 = (30+40+50+60)/4\n",
    "# y4 55 = (40+50+60+70)/4\n",
    "# y5 65 = (50+60+70+80)/4\n",
    "# y6 75 = (60+70+80+90)/4\n",
    "# y7 85 = (70+80+90+100)/4\n",
    "\n",
    "# Thus, the moving average sequence has n-k+1=10-4+1=7 values."
   ]
  },
  {
   "cell_type": "code",
   "execution_count": 34,
   "metadata": {},
   "outputs": [],
   "source": [
    "def fun(x,k):\n",
    "    for i in range((len(x)-k+1)):  #Calling this loop for (n-k+1) times\n",
    "        l=[]\n",
    "        l=x[i:k+i] #subsetting the list for calculating the moving average\n",
    "        avg=None\n",
    "        sum=0\n",
    "        for i in l:\n",
    "            sum=sum+i\n",
    "        avg=int(sum/k)\n",
    "        print(str(avg)+\" = \"+str(l)+\"/\"+str(k)) #printing the result in the format asked in Question\n"
   ]
  },
  {
   "cell_type": "code",
   "execution_count": 35,
   "metadata": {},
   "outputs": [
    {
     "name": "stdout",
     "output_type": "stream",
     "text": [
      "5 = [3, 5, 7]/3\n",
      "4 = [5, 7, 2]/3\n",
      "5 = [7, 2, 8]/3\n",
      "6 = [2, 8, 10]/3\n",
      "9 = [8, 10, 11]/3\n",
      "28 = [10, 11, 65]/3\n",
      "49 = [11, 65, 72]/3\n",
      "72 = [65, 72, 81]/3\n",
      "84 = [72, 81, 99]/3\n",
      "93 = [81, 99, 100]/3\n",
      "116 = [99, 100, 150]/3\n"
     ]
    }
   ],
   "source": [
    "x=[3, 5, 7, 2, 8, 10, 11, 65, 72, 81, 99, 100, 150] #Defining the list\n",
    "\n",
    "fun(x,3) #calling the function for k=3"
   ]
  },
  {
   "cell_type": "code",
   "execution_count": null,
   "metadata": {},
   "outputs": [],
   "source": []
  },
  {
   "cell_type": "code",
   "execution_count": null,
   "metadata": {},
   "outputs": [],
   "source": []
  }
 ],
 "metadata": {
  "kernelspec": {
   "display_name": "Python 3",
   "language": "python",
   "name": "python3"
  },
  "language_info": {
   "codemirror_mode": {
    "name": "ipython",
    "version": 3
   },
   "file_extension": ".py",
   "mimetype": "text/x-python",
   "name": "python",
   "nbconvert_exporter": "python",
   "pygments_lexer": "ipython3",
   "version": "3.7.0"
  }
 },
 "nbformat": 4,
 "nbformat_minor": 2
}
